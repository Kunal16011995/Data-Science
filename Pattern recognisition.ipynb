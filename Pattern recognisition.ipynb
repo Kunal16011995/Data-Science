{
  "nbformat": 4,
  "nbformat_minor": 0,
  "metadata": {
    "colab": {
      "name": "Untitled4.ipynb",
      "provenance": [],
      "authorship_tag": "ABX9TyNdR2oGdaVQrfTG3jMCIm6/",
      "include_colab_link": true
    },
    "kernelspec": {
      "name": "python3",
      "display_name": "Python 3"
    },
    "language_info": {
      "name": "python"
    },
    "accelerator": "GPU"
  },
  "cells": [
    {
      "cell_type": "markdown",
      "metadata": {
        "id": "view-in-github",
        "colab_type": "text"
      },
      "source": [
        "<a href=\"https://colab.research.google.com/github/Kunal16011995/Data-Science/blob/main/Pattern%20recognisition.ipynb\" target=\"_parent\"><img src=\"https://colab.research.google.com/assets/colab-badge.svg\" alt=\"Open In Colab\"/></a>"
      ]
    },
    {
      "cell_type": "code",
      "metadata": {
        "colab": {
          "base_uri": "https://localhost:8080/"
        },
        "id": "_qFCM2B8O2oP",
        "outputId": "502582e6-8191-4f5b-e28d-e8b98447b631"
      },
      "source": [
        "url = 'https://launchpad.net/~mario-mariomedina/+archive/ubuntu/talib/+files'\n",
        "!wget $url/libta-lib0_0.4.0-oneiric1_amd64.deb -qO libta.deb\n",
        "!wget $url/ta-lib0-dev_0.4.0-oneiric1_amd64.deb -qO ta.deb\n",
        "!dpkg -i libta.deb ta.deb\n",
        "!pip install ta-lib\n",
        "import talib"
      ],
      "execution_count": 1,
      "outputs": [
        {
          "output_type": "stream",
          "text": [
            "Selecting previously unselected package libta-lib0.\n",
            "(Reading database ... 160980 files and directories currently installed.)\n",
            "Preparing to unpack libta.deb ...\n",
            "Unpacking libta-lib0 (0.4.0-oneiric1) ...\n",
            "Selecting previously unselected package ta-lib0-dev.\n",
            "Preparing to unpack ta.deb ...\n",
            "Unpacking ta-lib0-dev (0.4.0-oneiric1) ...\n",
            "Setting up libta-lib0 (0.4.0-oneiric1) ...\n",
            "Setting up ta-lib0-dev (0.4.0-oneiric1) ...\n",
            "Processing triggers for man-db (2.8.3-2ubuntu0.1) ...\n",
            "Processing triggers for libc-bin (2.27-3ubuntu1.2) ...\n",
            "/sbin/ldconfig.real: /usr/local/lib/python3.7/dist-packages/ideep4py/lib/libmkldnn.so.0 is not a symbolic link\n",
            "\n",
            "Collecting ta-lib\n",
            "\u001b[?25l  Downloading https://files.pythonhosted.org/packages/ac/cf/681911aa31e04ba171ab4d523a412f4a746e30d3eacb1738799d181e028b/TA-Lib-0.4.19.tar.gz (267kB)\n",
            "\u001b[K     |████████████████████████████████| 276kB 19.6MB/s \n",
            "\u001b[?25hRequirement already satisfied: numpy in /usr/local/lib/python3.7/dist-packages (from ta-lib) (1.19.5)\n",
            "Building wheels for collected packages: ta-lib\n",
            "  Building wheel for ta-lib (setup.py) ... \u001b[?25l\u001b[?25hdone\n",
            "  Created wheel for ta-lib: filename=TA_Lib-0.4.19-cp37-cp37m-linux_x86_64.whl size=1437980 sha256=43ec87bc1407c5df10f62ca2ac7c623d344ea8bfc856de4882e053434427c599\n",
            "  Stored in directory: /root/.cache/pip/wheels/a3/f6/12/3d1ccd06caadd8fa47e016991dd0d27f1163bb260f1854e2ff\n",
            "Successfully built ta-lib\n",
            "Installing collected packages: ta-lib\n",
            "Successfully installed ta-lib-0.4.19\n"
          ],
          "name": "stdout"
        }
      ]
    },
    {
      "cell_type": "code",
      "metadata": {
        "id": "eIUruVOYO_4A"
      },
      "source": [
        "import pandas as pd"
      ],
      "execution_count": 2,
      "outputs": []
    },
    {
      "cell_type": "code",
      "metadata": {
        "id": "3buEpqSaPZ-_",
        "outputId": "a77b65f8-fa32-40ce-f3a6-45e394474174",
        "colab": {
          "base_uri": "https://localhost:8080/"
        }
      },
      "source": [
        "pip install yfinance "
      ],
      "execution_count": 4,
      "outputs": [
        {
          "output_type": "stream",
          "text": [
            "Collecting yfinance\n",
            "  Downloading https://files.pythonhosted.org/packages/a9/8f/2a053003f7d6e8c1caa7b61499dfc3a7c33bdc85a06fa00d5a7445e2fb1f/yfinance-0.1.56.tar.gz\n",
            "Requirement already satisfied: pandas>=0.24 in /usr/local/lib/python3.7/dist-packages (from yfinance) (1.1.5)\n",
            "Requirement already satisfied: numpy>=1.15 in /usr/local/lib/python3.7/dist-packages (from yfinance) (1.19.5)\n",
            "Requirement already satisfied: requests>=2.20 in /usr/local/lib/python3.7/dist-packages (from yfinance) (2.23.0)\n",
            "Requirement already satisfied: multitasking>=0.0.7 in /usr/local/lib/python3.7/dist-packages (from yfinance) (0.0.9)\n",
            "Collecting lxml>=4.5.1\n",
            "\u001b[?25l  Downloading https://files.pythonhosted.org/packages/cf/4d/6537313bf58fe22b508f08cf3eb86b29b6f9edf68e00454224539421073b/lxml-4.6.3-cp37-cp37m-manylinux1_x86_64.whl (5.5MB)\n",
            "\u001b[K     |████████████████████████████████| 5.5MB 22.4MB/s \n",
            "\u001b[?25hRequirement already satisfied: python-dateutil>=2.7.3 in /usr/local/lib/python3.7/dist-packages (from pandas>=0.24->yfinance) (2.8.1)\n",
            "Requirement already satisfied: pytz>=2017.2 in /usr/local/lib/python3.7/dist-packages (from pandas>=0.24->yfinance) (2018.9)\n",
            "Requirement already satisfied: certifi>=2017.4.17 in /usr/local/lib/python3.7/dist-packages (from requests>=2.20->yfinance) (2020.12.5)\n",
            "Requirement already satisfied: chardet<4,>=3.0.2 in /usr/local/lib/python3.7/dist-packages (from requests>=2.20->yfinance) (3.0.4)\n",
            "Requirement already satisfied: urllib3!=1.25.0,!=1.25.1,<1.26,>=1.21.1 in /usr/local/lib/python3.7/dist-packages (from requests>=2.20->yfinance) (1.24.3)\n",
            "Requirement already satisfied: idna<3,>=2.5 in /usr/local/lib/python3.7/dist-packages (from requests>=2.20->yfinance) (2.10)\n",
            "Requirement already satisfied: six>=1.5 in /usr/local/lib/python3.7/dist-packages (from python-dateutil>=2.7.3->pandas>=0.24->yfinance) (1.15.0)\n",
            "Building wheels for collected packages: yfinance\n",
            "  Building wheel for yfinance (setup.py) ... \u001b[?25l\u001b[?25hdone\n",
            "  Created wheel for yfinance: filename=yfinance-0.1.56-py2.py3-none-any.whl size=22627 sha256=1de1649068055861050d0ae10b43ee58eb447eb7e3f8be074e358c534ac83430\n",
            "  Stored in directory: /root/.cache/pip/wheels/e9/26/69/ebde3c87490e75c5d8b06cf2dd284d1183ca1bb814b1d5f18c\n",
            "Successfully built yfinance\n",
            "Installing collected packages: lxml, yfinance\n",
            "  Found existing installation: lxml 4.2.6\n",
            "    Uninstalling lxml-4.2.6:\n",
            "      Successfully uninstalled lxml-4.2.6\n",
            "Successfully installed lxml-4.6.3 yfinance-0.1.56\n"
          ],
          "name": "stdout"
        }
      ]
    },
    {
      "cell_type": "code",
      "metadata": {
        "id": "_pE3elJtPkjd"
      },
      "source": [
        "import yfinance as yf"
      ],
      "execution_count": 5,
      "outputs": []
    },
    {
      "cell_type": "code",
      "metadata": {
        "id": "81242QzrPp9D",
        "outputId": "cf318085-c6b4-4ec0-c946-dedfa0928655",
        "colab": {
          "base_uri": "https://localhost:8080/"
        }
      },
      "source": [
        "data = yf.download(\"HDFCBANK.NS\",start=\"2010-01-01\",end=\"2021-03-01\")"
      ],
      "execution_count": 7,
      "outputs": [
        {
          "output_type": "stream",
          "text": [
            "\r[*********************100%***********************]  1 of 1 completed\n"
          ],
          "name": "stdout"
        }
      ]
    },
    {
      "cell_type": "code",
      "metadata": {
        "id": "DjapYno9QZ1I",
        "outputId": "2c22febe-d307-4a01-8b11-0cd29e4705a1",
        "colab": {
          "base_uri": "https://localhost:8080/",
          "height": 450
        }
      },
      "source": [
        "data"
      ],
      "execution_count": 9,
      "outputs": [
        {
          "output_type": "execute_result",
          "data": {
            "text/html": [
              "<div>\n",
              "<style scoped>\n",
              "    .dataframe tbody tr th:only-of-type {\n",
              "        vertical-align: middle;\n",
              "    }\n",
              "\n",
              "    .dataframe tbody tr th {\n",
              "        vertical-align: top;\n",
              "    }\n",
              "\n",
              "    .dataframe thead th {\n",
              "        text-align: right;\n",
              "    }\n",
              "</style>\n",
              "<table border=\"1\" class=\"dataframe\">\n",
              "  <thead>\n",
              "    <tr style=\"text-align: right;\">\n",
              "      <th></th>\n",
              "      <th>Open</th>\n",
              "      <th>High</th>\n",
              "      <th>Low</th>\n",
              "      <th>Close</th>\n",
              "      <th>Adj Close</th>\n",
              "      <th>Volume</th>\n",
              "    </tr>\n",
              "    <tr>\n",
              "      <th>Date</th>\n",
              "      <th></th>\n",
              "      <th></th>\n",
              "      <th></th>\n",
              "      <th></th>\n",
              "      <th></th>\n",
              "      <th></th>\n",
              "    </tr>\n",
              "  </thead>\n",
              "  <tbody>\n",
              "    <tr>\n",
              "      <th>2010-01-04</th>\n",
              "      <td>170.000000</td>\n",
              "      <td>172.850006</td>\n",
              "      <td>169.255005</td>\n",
              "      <td>170.570007</td>\n",
              "      <td>158.248413</td>\n",
              "      <td>3050490</td>\n",
              "    </tr>\n",
              "    <tr>\n",
              "      <th>2010-01-05</th>\n",
              "      <td>171.000000</td>\n",
              "      <td>172.500000</td>\n",
              "      <td>170.500000</td>\n",
              "      <td>170.720001</td>\n",
              "      <td>158.387589</td>\n",
              "      <td>8386600</td>\n",
              "    </tr>\n",
              "    <tr>\n",
              "      <th>2010-01-06</th>\n",
              "      <td>171.399994</td>\n",
              "      <td>172.000000</td>\n",
              "      <td>168.809998</td>\n",
              "      <td>170.835007</td>\n",
              "      <td>158.494308</td>\n",
              "      <td>6639840</td>\n",
              "    </tr>\n",
              "    <tr>\n",
              "      <th>2010-01-07</th>\n",
              "      <td>176.839996</td>\n",
              "      <td>176.839996</td>\n",
              "      <td>170.160004</td>\n",
              "      <td>171.279999</td>\n",
              "      <td>158.907150</td>\n",
              "      <td>6123980</td>\n",
              "    </tr>\n",
              "    <tr>\n",
              "      <th>2010-01-08</th>\n",
              "      <td>171.199997</td>\n",
              "      <td>172.339996</td>\n",
              "      <td>170.100006</td>\n",
              "      <td>171.505005</td>\n",
              "      <td>159.115891</td>\n",
              "      <td>7085900</td>\n",
              "    </tr>\n",
              "    <tr>\n",
              "      <th>...</th>\n",
              "      <td>...</td>\n",
              "      <td>...</td>\n",
              "      <td>...</td>\n",
              "      <td>...</td>\n",
              "      <td>...</td>\n",
              "      <td>...</td>\n",
              "    </tr>\n",
              "    <tr>\n",
              "      <th>2021-02-22</th>\n",
              "      <td>1545.050049</td>\n",
              "      <td>1573.900024</td>\n",
              "      <td>1539.449951</td>\n",
              "      <td>1548.000000</td>\n",
              "      <td>1548.000000</td>\n",
              "      <td>14725919</td>\n",
              "    </tr>\n",
              "    <tr>\n",
              "      <th>2021-02-23</th>\n",
              "      <td>1553.750000</td>\n",
              "      <td>1557.699951</td>\n",
              "      <td>1522.650024</td>\n",
              "      <td>1529.150024</td>\n",
              "      <td>1529.150024</td>\n",
              "      <td>9119953</td>\n",
              "    </tr>\n",
              "    <tr>\n",
              "      <th>2021-02-24</th>\n",
              "      <td>1526.500000</td>\n",
              "      <td>1613.949951</td>\n",
              "      <td>1516.250000</td>\n",
              "      <td>1606.449951</td>\n",
              "      <td>1606.449951</td>\n",
              "      <td>7157166</td>\n",
              "    </tr>\n",
              "    <tr>\n",
              "      <th>2021-02-25</th>\n",
              "      <td>1609.750000</td>\n",
              "      <td>1636.250000</td>\n",
              "      <td>1602.000000</td>\n",
              "      <td>1606.400024</td>\n",
              "      <td>1606.400024</td>\n",
              "      <td>10054785</td>\n",
              "    </tr>\n",
              "    <tr>\n",
              "      <th>2021-02-26</th>\n",
              "      <td>1587.050049</td>\n",
              "      <td>1588.900024</td>\n",
              "      <td>1521.000000</td>\n",
              "      <td>1534.400024</td>\n",
              "      <td>1534.400024</td>\n",
              "      <td>13956423</td>\n",
              "    </tr>\n",
              "  </tbody>\n",
              "</table>\n",
              "<p>2751 rows × 6 columns</p>\n",
              "</div>"
            ],
            "text/plain": [
              "                   Open         High  ...    Adj Close    Volume\n",
              "Date                                  ...                       \n",
              "2010-01-04   170.000000   172.850006  ...   158.248413   3050490\n",
              "2010-01-05   171.000000   172.500000  ...   158.387589   8386600\n",
              "2010-01-06   171.399994   172.000000  ...   158.494308   6639840\n",
              "2010-01-07   176.839996   176.839996  ...   158.907150   6123980\n",
              "2010-01-08   171.199997   172.339996  ...   159.115891   7085900\n",
              "...                 ...          ...  ...          ...       ...\n",
              "2021-02-22  1545.050049  1573.900024  ...  1548.000000  14725919\n",
              "2021-02-23  1553.750000  1557.699951  ...  1529.150024   9119953\n",
              "2021-02-24  1526.500000  1613.949951  ...  1606.449951   7157166\n",
              "2021-02-25  1609.750000  1636.250000  ...  1606.400024  10054785\n",
              "2021-02-26  1587.050049  1588.900024  ...  1534.400024  13956423\n",
              "\n",
              "[2751 rows x 6 columns]"
            ]
          },
          "metadata": {
            "tags": []
          },
          "execution_count": 9
        }
      ]
    },
    {
      "cell_type": "code",
      "metadata": {
        "id": "6EURqZI_QpPM"
      },
      "source": [
        "integer = talib.CDLENGULFING(data['Open'], data['High'], data['Low'], data['Close'])"
      ],
      "execution_count": 19,
      "outputs": []
    },
    {
      "cell_type": "code",
      "metadata": {
        "id": "qQ5BGy0cSean",
        "outputId": "631ea332-4619-4049-f590-269bfed31bfd",
        "colab": {
          "base_uri": "https://localhost:8080/"
        }
      },
      "source": [
        "integer"
      ],
      "execution_count": 20,
      "outputs": [
        {
          "output_type": "execute_result",
          "data": {
            "text/plain": [
              "Date\n",
              "2010-01-04      0\n",
              "2010-01-05      0\n",
              "2010-01-06      0\n",
              "2010-01-07      0\n",
              "2010-01-08      0\n",
              "             ... \n",
              "2021-02-22      0\n",
              "2021-02-23   -100\n",
              "2021-02-24    100\n",
              "2021-02-25      0\n",
              "2021-02-26      0\n",
              "Length: 2751, dtype: int32"
            ]
          },
          "metadata": {
            "tags": []
          },
          "execution_count": 20
        }
      ]
    },
    {
      "cell_type": "code",
      "metadata": {
        "id": "SgU8m9BzS743",
        "outputId": "fd544b7b-3c16-46dc-d0a5-b2a4ecb8a69b",
        "colab": {
          "base_uri": "https://localhost:8080/"
        }
      },
      "source": [
        "print(integer[integer!=0])"
      ],
      "execution_count": 21,
      "outputs": [
        {
          "output_type": "stream",
          "text": [
            "Date\n",
            "2010-01-11   -100\n",
            "2010-01-14   -100\n",
            "2010-01-18    100\n",
            "2010-01-20   -100\n",
            "2010-01-29    100\n",
            "             ... \n",
            "2020-11-25   -100\n",
            "2021-01-01   -100\n",
            "2021-02-04    100\n",
            "2021-02-23   -100\n",
            "2021-02-24    100\n",
            "Length: 229, dtype: int32\n"
          ],
          "name": "stdout"
        }
      ]
    },
    {
      "cell_type": "code",
      "metadata": {
        "id": "7Z2uvWh6TCbW"
      },
      "source": [
        ""
      ],
      "execution_count": null,
      "outputs": []
    }
  ]
}